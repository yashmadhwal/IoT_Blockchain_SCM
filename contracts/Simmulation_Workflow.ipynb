{
 "cells": [
  {
   "cell_type": "markdown",
   "id": "7e508166",
   "metadata": {},
   "source": [
    "# IoT-Based Smart Contract Experiment"
   ]
  },
  {
   "cell_type": "code",
   "execution_count": 1,
   "id": "773d254d",
   "metadata": {},
   "outputs": [],
   "source": [
    "#Import required libraries\n",
    "from web3 import Web3\n",
    "import random\n",
    "import json\n",
    "import matplotlib.pyplot as plt\n",
    "from prettytable import PrettyTable\n",
    "import math"
   ]
  },
  {
   "cell_type": "markdown",
   "id": "08e89f5a",
   "metadata": {},
   "source": [
    "### Function to calculate and return gas value"
   ]
  },
  {
   "cell_type": "code",
   "execution_count": 2,
   "id": "c5b25ea8",
   "metadata": {},
   "outputs": [],
   "source": [
    "def gas_consumption(**kwargs):    \n",
    "    if kwargs['solo'] == True:\n",
    "        transaction_hash = kwargs['transaction']\n",
    "        receipt = web3.eth.wait_for_transaction_receipt(transaction_hash).gasUsed\n",
    "        return receipt\n",
    "\n",
    "    else:\n",
    "        transaction_hash = kwargs['transaction']\n",
    "        receipt = web3.eth.wait_for_transaction_receipt(transaction_hash).gasUsed\n",
    "        return receipt"
   ]
  },
  {
   "cell_type": "markdown",
   "id": "092a4ccf",
   "metadata": {},
   "source": [
    "### Hardhat Node and Contract Deployment\n",
    "Run the node: <code> npx hardhat node </code>\n",
    "\n",
    "In new terminal tab run contract: <code>npx hardhat run --network localhost scripts/script_IoT_Monitoring.js</code>\n",
    "<br>*Make sure that you are in the right folder*"
   ]
  },
  {
   "cell_type": "code",
   "execution_count": 3,
   "id": "1c2185cf",
   "metadata": {},
   "outputs": [
    {
     "name": "stdout",
     "output_type": "stream",
     "text": [
      "Connected to node: True\n"
     ]
    }
   ],
   "source": [
    "# Started HTTP and WebSocket JSON-RPC server at ...\n",
    "try:\n",
    "    HTTP_Server = 'http://127.0.0.1:8545'\n",
    "    web3 = Web3(Web3.HTTPProvider(HTTP_Server))\n",
    "    print(\"Connected to node:\",web3.is_connected())\n",
    "except:\n",
    "    print('HTTP server not connected!!')"
   ]
  },
  {
   "cell_type": "markdown",
   "id": "48c18e01",
   "metadata": {},
   "source": [
    "### Use-Case\n",
    "<p>When transporting cheese, it's important to keep it in well-ventilated areas. This is especially crucial on longer trips through tropical regions, where cool storage is necessary. Cheese should be loaded in both new and old condition. Poor ventilation can lead to mould growth, so it's important to control the ventilation carefully. However, be cautious of excessive draughts, which can also cause damage.</p>\n",
    "\n",
    "<p>We assume a supply chain route from New York to California where a New York based company produces cheese and through the supply route across the USA delivers the cream cheese package to the destination at California.</p>"
   ]
  },
  {
   "cell_type": "markdown",
   "id": "b7949911",
   "metadata": {},
   "source": [
    "### Use case actors\n",
    "- __Contract Owner__: Granting/Revoking access of producer to create packages. \n",
    "- __Producer__: Creating/preparing cheese shipment to destination.\n",
    "- __Transport__: Cargo vehicle integrated with IoT device which checks the package's conditions\n",
    "- __Receiver__: Recipient of the package at the destination"
   ]
  },
  {
   "cell_type": "code",
   "execution_count": 4,
   "id": "71c54b1e",
   "metadata": {},
   "outputs": [],
   "source": [
    "# Asserting that we have correct number of accounts\n",
    "accounts_list = web3.eth.accounts"
   ]
  },
  {
   "cell_type": "code",
   "execution_count": 5,
   "id": "7b0ff019",
   "metadata": {},
   "outputs": [
    {
     "name": "stdout",
     "output_type": "stream",
     "text": [
      "Contract_Owner: 0xf39Fd6e51aad88F6F4ce6aB8827279cffFb92266\n"
     ]
    }
   ],
   "source": [
    "#accounts_list[0]: Contract_Owner\n",
    "Contract_Owner = accounts_list[0]\n",
    "print(f'Contract_Owner: {Contract_Owner}')"
   ]
  },
  {
   "cell_type": "code",
   "execution_count": 6,
   "id": "9a2768ae",
   "metadata": {},
   "outputs": [
    {
     "name": "stdout",
     "output_type": "stream",
     "text": [
      "Producer: 0x70997970C51812dc3A010C7d01b50e0d17dc79C8\n"
     ]
    }
   ],
   "source": [
    "#accounts_list[1]: Producer\n",
    "Producer = accounts_list[1]\n",
    "print(f'Producer: {Producer}')"
   ]
  },
  {
   "cell_type": "code",
   "execution_count": 7,
   "id": "be7fd66e",
   "metadata": {},
   "outputs": [
    {
     "name": "stdout",
     "output_type": "stream",
     "text": [
      "Transport: 0x3C44CdDdB6a900fa2b585dd299e03d12FA4293BC\n"
     ]
    }
   ],
   "source": [
    "#accounts_list[2]: Transport\n",
    "Transport = accounts_list[2]\n",
    "print(f'Transport: {Transport}')"
   ]
  },
  {
   "cell_type": "code",
   "execution_count": 8,
   "id": "03536841",
   "metadata": {},
   "outputs": [
    {
     "name": "stdout",
     "output_type": "stream",
     "text": [
      "Receiver: 0x90F79bf6EB2c4f870365E785982E1f101E93b906\n"
     ]
    }
   ],
   "source": [
    "#accounts_list[3]: Receiver\n",
    "Receiver = accounts_list[3]\n",
    "print(f'Receiver: {Receiver}')"
   ]
  },
  {
   "cell_type": "markdown",
   "id": "526b917b",
   "metadata": {},
   "source": [
    "<p>In previous step we deployed Smart Contract and we not the gas used</p>"
   ]
  },
  {
   "cell_type": "code",
   "execution_count": 9,
   "id": "a8ffee2b",
   "metadata": {},
   "outputs": [],
   "source": [
    "#This might be different, When you will run deploy the contract, it will print contract address and gas used\n",
    "gas_used_contract_deploy = 2048898 "
   ]
  },
  {
   "cell_type": "markdown",
   "id": "303525c5",
   "metadata": {},
   "source": [
    "#### Creating Contract Instance"
   ]
  },
  {
   "cell_type": "code",
   "execution_count": 10,
   "id": "f8f4e13b",
   "metadata": {},
   "outputs": [],
   "source": [
    "# creating instance of the the smart contract\n",
    "# Getting ABI\n",
    "with open('artifacts/contracts/IoT_Monitoring.sol/InternetOfThingsContractMonitoring.json') as f:\n",
    "    contract_abi = json.load(f)['abi']"
   ]
  },
  {
   "cell_type": "code",
   "execution_count": 11,
   "id": "fc06596c",
   "metadata": {},
   "outputs": [],
   "source": [
    "#getting Deployed Address... NOTE THIS MIGHT CHANGE, SO MAKE SURE YOU ARE RUNNING CORRECT ADDRESS\n",
    "contract_address = '0xe7f1725E7734CE288F8367e1Bb143E90bb3F0512'"
   ]
  },
  {
   "cell_type": "code",
   "execution_count": 12,
   "id": "0a5b1fbb",
   "metadata": {},
   "outputs": [],
   "source": [
    "iot = web3.eth.contract(address=contract_address, abi = contract_abi)"
   ]
  },
  {
   "cell_type": "markdown",
   "id": "f4f01c5a",
   "metadata": {},
   "source": [
    "## Workflow\n",
    "_Note_: We have make signigicant tests using testcases to check the security of the smart contract. This simulation is ONLY for checking the performance. For more detail refer to the documentations in github followed by the testcases."
   ]
  },
  {
   "cell_type": "markdown",
   "id": "eb7dc957",
   "metadata": {},
   "source": [
    "### Setting Temperature Zones\n",
    "<p> Setting the IoT Device's Conditions assuming it to be a refrigerator, where the temperature should be (avg) between from 1.7°C to 4.4°C or (35°F - 40°F) </p>"
   ]
  },
  {
   "cell_type": "code",
   "execution_count": 13,
   "id": "e25c0250",
   "metadata": {},
   "outputs": [],
   "source": [
    "_ = iot.functions.setZones(35,40).transact({'from':Contract_Owner}).hex()\n",
    "temperature_set_gas = gas_consumption(transaction = _, solo = False)"
   ]
  },
  {
   "cell_type": "code",
   "execution_count": 14,
   "id": "d37a0ef4",
   "metadata": {},
   "outputs": [
    {
     "name": "stdout",
     "output_type": "stream",
     "text": [
      "Transaction Hash: 0x64861b720880af8841aec4593a561680819dd497e159346d2b4654022bb7a87e\n",
      "gas: 68448 Wei\n"
     ]
    }
   ],
   "source": [
    "print('Transaction Hash:',_)\n",
    "print('gas:',temperature_set_gas,'Wei')"
   ]
  },
  {
   "cell_type": "markdown",
   "id": "f0e5af7b",
   "metadata": {},
   "source": [
    "### Granting Access\n",
    "<p> The access is granted by the contract owner to the producer to produce the package.</p>"
   ]
  },
  {
   "cell_type": "code",
   "execution_count": 15,
   "id": "4bf636d2",
   "metadata": {},
   "outputs": [],
   "source": [
    "_ = iot.functions.grantAccess(Producer).transact({'from':Contract_Owner}).hex()\n",
    "gas_grant_access = gas_consumption(transaction = _, solo = False)"
   ]
  },
  {
   "cell_type": "code",
   "execution_count": 16,
   "id": "224479a1",
   "metadata": {},
   "outputs": [
    {
     "name": "stdout",
     "output_type": "stream",
     "text": [
      "Transaction Hash: 0xd69a2d5ec177052f5851f59d24043f5a5b9cf21e5433186835526473ee2123a3\n",
      "gas: 46749 Wei\n"
     ]
    }
   ],
   "source": [
    "print('Transaction Hash:',_)\n",
    "print('gas:',gas_grant_access,'Wei')"
   ]
  },
  {
   "cell_type": "markdown",
   "id": "fefd6106",
   "metadata": {},
   "source": [
    "### Producing Package\n",
    "<p>Once the producer is granted access, the package can be produced by passing the following parameters:</p>\n",
    "\n",
    "- __Destination__: California\n",
    "- __Recipient__: Recipient based in California\n",
    "- __Transport__: Transport company's address"
   ]
  },
  {
   "cell_type": "code",
   "execution_count": 17,
   "id": "c7ca9b9c",
   "metadata": {},
   "outputs": [],
   "source": [
    "_ = iot.functions.initializeProduct(\"California\",Receiver,Transport).transact({'from':Producer})\n",
    "gas_comp_package_produce = gas_consumption(transaction = _, solo = False)"
   ]
  },
  {
   "cell_type": "code",
   "execution_count": 18,
   "id": "ea4d30ec",
   "metadata": {},
   "outputs": [
    {
     "name": "stdout",
     "output_type": "stream",
     "text": [
      "Transaction Hash: 0xc70518a0a7a4159d5ab012fa0fbe9849af5f2f85fbb8258689311e4a6e124b3c\n",
      "gas: 143482 Wei\n"
     ]
    }
   ],
   "source": [
    "print('Transaction Hash:',_.hex())\n",
    "print('gas:',gas_comp_package_produce,'Wei')"
   ]
  },
  {
   "cell_type": "markdown",
   "id": "43074d2c",
   "metadata": {},
   "source": [
    "### Transportation of Package\n",
    "<p>The package is created with package Id: 1. Now it will be transported from New York to California. It takes apprimately 43 hours of continous driving without stops and approximately 6-7 days with stops. So we assume that the time frame of the journey is 6 days.</p>\n",
    "\n",
    "<p>we assume that the temperature is well maintained and the system updates once in 24hrs (Updating with maximum temperature it reached). We will make random temperature from 30-42 degrees (<i>Note: for simplicity, we take random numbers between 30-42)</i></p>"
   ]
  },
  {
   "cell_type": "code",
   "execution_count": 19,
   "id": "f5d7acf8",
   "metadata": {},
   "outputs": [],
   "source": [
    "Package_id = 1"
   ]
  },
  {
   "cell_type": "code",
   "execution_count": 20,
   "id": "91253148",
   "metadata": {},
   "outputs": [],
   "source": [
    "gas_transport = []\n",
    "for i in range(7):\n",
    "    iot_reading = (random.randint(30, 42))\n",
    "    _ = iot.functions.productMovement(Package_id,iot_reading).transact({'from':Transport})\n",
    "    gas_comp = gas_consumption(transaction = _, solo = False)\n",
    "    gas_transport.append(gas_comp)\n",
    "    # Increase time of EVM by 24 hrs\n",
    "    web3.provider.make_request(\"evm_increaseTime\", [24 * 3600])\n"
   ]
  },
  {
   "cell_type": "code",
   "execution_count": 21,
   "id": "6b52436b",
   "metadata": {},
   "outputs": [
    {
     "data": {
      "text/plain": [
       "[189787, 141287, 141287, 141277, 141287, 141277, 139160]"
      ]
     },
     "execution_count": 21,
     "metadata": {},
     "output_type": "execute_result"
    }
   ],
   "source": [
    "gas_transport"
   ]
  },
  {
   "cell_type": "markdown",
   "id": "6f3e16f7",
   "metadata": {},
   "source": [
    "### Receiving the Package\n",
    "<p>Receiving the package by the recpient upon receival when received</p>"
   ]
  },
  {
   "cell_type": "code",
   "execution_count": 22,
   "id": "75fc0c89",
   "metadata": {},
   "outputs": [],
   "source": [
    "_ = iot.functions.receiveProduct(Package_id).transact({'from':Receiver})\n",
    "gas_comp_package_receive = gas_consumption(transaction = _, solo = False)"
   ]
  },
  {
   "cell_type": "code",
   "execution_count": 23,
   "id": "e7e5d0ca",
   "metadata": {},
   "outputs": [
    {
     "name": "stdout",
     "output_type": "stream",
     "text": [
      "Transaction Hash: 0xfb1616fbc8a262d76b8b2ed5a219c32b59fb773da0688015a07edae21d0b6b3a\n",
      "gas: 29460 Wei\n"
     ]
    }
   ],
   "source": [
    "print('Transaction Hash:',_.hex())\n",
    "print('gas:',gas_comp_package_receive,'Wei')"
   ]
  },
  {
   "cell_type": "markdown",
   "id": "1d35ad99",
   "metadata": {},
   "source": [
    "### Checking Product's information\n",
    "<p>Asserting that first and last entry of the product's journey to be approx ~6 days</p>"
   ]
  },
  {
   "cell_type": "code",
   "execution_count": 24,
   "id": "7f65383a",
   "metadata": {},
   "outputs": [
    {
     "name": "stdout",
     "output_type": "stream",
     "text": [
      "Approx time difference ~ 6.000011574074074\n"
     ]
    }
   ],
   "source": [
    "Product_journey = iot.functions.getProductionJourney(1).call()\n",
    "day_one = Product_journey[0][1]\n",
    "day_seven = Product_journey[-1][1]\n",
    "\n",
    "print(\"Approx time difference ~\", (day_seven - day_one)/(24 * 3600))"
   ]
  },
  {
   "cell_type": "markdown",
   "id": "5d0f20c5",
   "metadata": {},
   "source": [
    "### Revoking Access\n",
    "<p> The access is revoked by the contract owner to the producer to stop package production.</p>"
   ]
  },
  {
   "cell_type": "code",
   "execution_count": 25,
   "id": "c74d1901",
   "metadata": {},
   "outputs": [],
   "source": [
    "_ = iot.functions.revokeAccess(Producer).transact({'from':Contract_Owner}).hex()\n",
    "gas_grant_revoke = gas_consumption(transaction = _, solo = False)"
   ]
  },
  {
   "cell_type": "code",
   "execution_count": 26,
   "id": "37df2071",
   "metadata": {},
   "outputs": [
    {
     "name": "stdout",
     "output_type": "stream",
     "text": [
      "Transaction Hash: 0xc0147f127670cb5826bba06c0faa6de54f5683aef8af760300bad2877a38cc49\n",
      "gas: 24826 Wei\n"
     ]
    }
   ],
   "source": [
    "print('Transaction Hash:',_)\n",
    "print('gas:',gas_grant_revoke,'Wei')"
   ]
  },
  {
   "cell_type": "markdown",
   "id": "020b3cf9",
   "metadata": {},
   "source": [
    "### Results"
   ]
  },
  {
   "cell_type": "markdown",
   "id": "e7480c62",
   "metadata": {},
   "source": [
    "<p>Calculating Tge Environmental setup:</p>"
   ]
  },
  {
   "cell_type": "code",
   "execution_count": 27,
   "id": "152dc2ec",
   "metadata": {},
   "outputs": [],
   "source": [
    "gas_block_limit = 3 * 10e6"
   ]
  },
  {
   "cell_type": "code",
   "execution_count": 28,
   "id": "d19eec54",
   "metadata": {},
   "outputs": [
    {
     "data": {
      "text/html": [
       "<table>\n",
       "    <thead>\n",
       "        <tr>\n",
       "            <th>Action</th>\n",
       "            <th>Executer</th>\n",
       "            <th>Gas Used</th>\n",
       "        </tr>\n",
       "    </thead>\n",
       "    <tbody>\n",
       "        <tr>\n",
       "            <td>Produce</td>\n",
       "            <td>Producer</td>\n",
       "            <td>143482</td>\n",
       "        </tr>\n",
       "        <tr>\n",
       "            <td>Track</td>\n",
       "            <td>Transport</td>\n",
       "            <td>1035362</td>\n",
       "        </tr>\n",
       "        <tr>\n",
       "            <td>Receive</td>\n",
       "            <td>Recpient</td>\n",
       "            <td>29460</td>\n",
       "        </tr>\n",
       "    </tbody>\n",
       "</table>"
      ],
      "text/plain": [
       "+---------+-----------+----------+\n",
       "|  Action |  Executer | Gas Used |\n",
       "+---------+-----------+----------+\n",
       "| Produce |  Producer |  143482  |\n",
       "|  Track  | Transport | 1035362  |\n",
       "| Receive |  Recpient |  29460   |\n",
       "+---------+-----------+----------+"
      ]
     },
     "execution_count": 28,
     "metadata": {},
     "output_type": "execute_result"
    }
   ],
   "source": [
    "#Gas consumption in workflow: Produce -> Transfer -> Receive\n",
    "wf = PrettyTable()\n",
    "wf.field_names = [\"Action\", \"Executer\", \"Gas Used\"]\n",
    "wf.add_row([\"Produce\", \"Producer\", gas_comp_package_produce])\n",
    "wf.add_row([\"Track\", \"Transport\", sum(gas_transport)])\n",
    "wf.add_row([\"Receive\", \"Recpient\", gas_comp_package_receive])\n",
    "wf"
   ]
  },
  {
   "cell_type": "code",
   "execution_count": 29,
   "id": "b99d2530",
   "metadata": {},
   "outputs": [
    {
     "name": "stdout",
     "output_type": "stream",
     "text": [
      "\n",
      "Number of such supply chain actions that can fit in 1 Ethereum block: 24.828188932586503\n",
      "i.e. 24 actions\n"
     ]
    }
   ],
   "source": [
    "Total_workflow_gas = gas_comp_package_produce + sum(gas_transport) + gas_comp_package_receive\n",
    "number_of_actions_in_a_block = gas_block_limit/Total_workflow_gas\n",
    "print(f\"\"\"\n",
    "Number of such supply chain actions that can fit in 1 Ethereum block: {number_of_actions_in_a_block}\n",
    "i.e. {math.floor(number_of_actions_in_a_block)} actions\"\"\",)"
   ]
  },
  {
   "cell_type": "markdown",
   "id": "cab821a2",
   "metadata": {},
   "source": [
    "### Setup\n",
    "As per this [article](https://www.ibisworld.com/industry-statistics/number-of-businesses/cheese-production-united-states/), There are 436 Cheese Production businesses in the US as of 2023, an increase of 0.9% from 2022.\n",
    "In 2020, there were 408 business followed by 417, 433, 436 in year 2021, 2022 and 2023 respectively. \n",
    "So, we will first register (grant access) the 417 wallets and take average of gas consumptions."
   ]
  },
  {
   "cell_type": "code",
   "execution_count": 30,
   "id": "d0778246",
   "metadata": {},
   "outputs": [],
   "source": [
    "# Take grant and revoke for full USA based on data\n",
    "# Getting 400 accounts from HardHat\n",
    "gas_registration = []"
   ]
  },
  {
   "cell_type": "code",
   "execution_count": 31,
   "id": "599f61e8",
   "metadata": {},
   "outputs": [],
   "source": [
    "for i in range(11,428):\n",
    "    try:\n",
    "        business_wallet = accounts_list[i]\n",
    "        _ = iot.functions.grantAccess(business_wallet).transact({'from':Contract_Owner}).hex()\n",
    "        gas_grant_access = gas_consumption(transaction = _, solo = False)\n",
    "        gas_registration.append(gas_grant_access)\n",
    "    except:\n",
    "        pass"
   ]
  },
  {
   "cell_type": "code",
   "execution_count": 32,
   "id": "de658124",
   "metadata": {},
   "outputs": [],
   "source": [
    "assert(len(gas_registration) == 417)"
   ]
  },
  {
   "cell_type": "code",
   "execution_count": 33,
   "id": "def13725",
   "metadata": {},
   "outputs": [
    {
     "name": "stdout",
     "output_type": "stream",
     "text": [
      "Average gas to register company 46748.28057553957\n"
     ]
    }
   ],
   "source": [
    "average_gas_registration = sum(gas_registration)/len(gas_registration)\n",
    "print('Average gas to register company', average_gas_registration)"
   ]
  },
  {
   "cell_type": "code",
   "execution_count": 34,
   "id": "c83d8b65",
   "metadata": {},
   "outputs": [],
   "source": [
    "number_of_registrations = gas_block_limit/average_gas_registration"
   ]
  },
  {
   "cell_type": "code",
   "execution_count": 35,
   "id": "5afc3d4c",
   "metadata": {},
   "outputs": [
    {
     "name": "stdout",
     "output_type": "stream",
     "text": [
      "\n",
      "1 Ethereum block can fit: 641.7348323971751 registrations.\n",
      "i.e. 641 registrations\n"
     ]
    }
   ],
   "source": [
    "print(f\"\"\"\n",
    "1 Ethereum block can fit: {number_of_registrations} registrations.\n",
    "i.e. {math.floor(number_of_registrations)} registrations\"\"\",)\n"
   ]
  },
  {
   "cell_type": "markdown",
   "id": "ab3517c5",
   "metadata": {},
   "source": [
    "Assuming that 50% of business decide not to continue, therefore need to be deregistered. For simplicity we deregister alternate wallets."
   ]
  },
  {
   "cell_type": "code",
   "execution_count": 36,
   "id": "c00ec565",
   "metadata": {},
   "outputs": [],
   "source": [
    "gas_deregistration = []"
   ]
  },
  {
   "cell_type": "code",
   "execution_count": 37,
   "id": "87c95ecc",
   "metadata": {},
   "outputs": [],
   "source": [
    "for i in range(11,428):   \n",
    "    try:\n",
    "        business_wallet = accounts_list[i]\n",
    "        _ = iot.functions.revokeAccess(business_wallet).transact({'from':Contract_Owner}).hex()\n",
    "        gas_revoke_access = gas_consumption(transaction = _, solo = False)\n",
    "        gas_deregistration.append(gas_revoke_access)\n",
    "    except:\n",
    "        pass"
   ]
  },
  {
   "cell_type": "code",
   "execution_count": 38,
   "id": "39fb7e6a",
   "metadata": {},
   "outputs": [
    {
     "name": "stdout",
     "output_type": "stream",
     "text": [
      "Average gas to deregister company 24825.280575539568\n"
     ]
    }
   ],
   "source": [
    "average_gas_deregistration = sum(gas_deregistration)/len(gas_deregistration)\n",
    "print('Average gas to deregister company', average_gas_deregistration)"
   ]
  },
  {
   "cell_type": "code",
   "execution_count": 39,
   "id": "885470e2",
   "metadata": {},
   "outputs": [],
   "source": [
    "number_of_deregistrations = gas_block_limit/average_gas_deregistration"
   ]
  },
  {
   "cell_type": "code",
   "execution_count": 40,
   "id": "ee492379",
   "metadata": {},
   "outputs": [
    {
     "name": "stdout",
     "output_type": "stream",
     "text": [
      "\n",
      "1 Ethereum block can fit: 1208.445556484832 deregistrations.\n",
      "i.e. 1208 deregistrations\n"
     ]
    }
   ],
   "source": [
    "print(f\"\"\"\n",
    "1 Ethereum block can fit: {number_of_deregistrations} deregistrations.\n",
    "i.e. {math.floor(number_of_deregistrations)} deregistrations\"\"\",)\n"
   ]
  },
  {
   "cell_type": "code",
   "execution_count": 41,
   "id": "aea762dd",
   "metadata": {},
   "outputs": [
    {
     "data": {
      "text/html": [
       "<table>\n",
       "    <thead>\n",
       "        <tr>\n",
       "            <th>Action</th>\n",
       "            <th>Executer</th>\n",
       "            <th>Gas Used</th>\n",
       "        </tr>\n",
       "    </thead>\n",
       "    <tbody>\n",
       "        <tr>\n",
       "            <td>Contract Deploy</td>\n",
       "            <td>Owner</td>\n",
       "            <td>2048898</td>\n",
       "        </tr>\n",
       "        <tr>\n",
       "            <td>Set Conditions</td>\n",
       "            <td>Owner/Admin</td>\n",
       "            <td>68448</td>\n",
       "        </tr>\n",
       "        <tr>\n",
       "            <td>grantAccess</td>\n",
       "            <td>Owner/Admin</td>\n",
       "            <td>46748</td>\n",
       "        </tr>\n",
       "        <tr>\n",
       "            <td>revokeAccess</td>\n",
       "            <td>Owner/Admin</td>\n",
       "            <td>24825</td>\n",
       "        </tr>\n",
       "    </tbody>\n",
       "</table>"
      ],
      "text/plain": [
       "+-----------------+-------------+----------+\n",
       "|      Action     |   Executer  | Gas Used |\n",
       "+-----------------+-------------+----------+\n",
       "| Contract Deploy |    Owner    | 2048898  |\n",
       "|  Set Conditions | Owner/Admin |  68448   |\n",
       "|   grantAccess   | Owner/Admin |  46748   |\n",
       "|   revokeAccess  | Owner/Admin |  24825   |\n",
       "+-----------------+-------------+----------+"
      ]
     },
     "execution_count": 41,
     "metadata": {},
     "output_type": "execute_result"
    }
   ],
   "source": [
    "#Gas consumption in setup: contract deploy -> set conditions -> grantAccess -> revokeAccess\n",
    "setup = PrettyTable()\n",
    "setup.field_names = [\"Action\", \"Executer\", \"Gas Used\"]\n",
    "setup.add_row([\"Contract Deploy\", \"Owner\", gas_used_contract_deploy])\n",
    "setup.add_row([\"Set Conditions\", \"Owner/Admin\", temperature_set_gas])\n",
    "setup.add_row([\"grantAccess\", \"Owner/Admin\", math.floor(average_gas_registration)])\n",
    "setup.add_row([\"revokeAccess\", \"Owner/Admin\", math.floor(average_gas_deregistration)])\n",
    "setup"
   ]
  },
  {
   "cell_type": "code",
   "execution_count": null,
   "id": "ba790a5d",
   "metadata": {},
   "outputs": [],
   "source": []
  },
  {
   "cell_type": "code",
   "execution_count": 42,
   "id": "6b4b5760",
   "metadata": {},
   "outputs": [],
   "source": [
    "# Take grant and revoke for full USA based on data\n",
    "# Getting 400 accounts from HardHat\n",
    "gas_re_registration = []"
   ]
  },
  {
   "cell_type": "code",
   "execution_count": 43,
   "id": "0237eb21",
   "metadata": {},
   "outputs": [],
   "source": [
    "for i in range(11,428):\n",
    "    try:\n",
    "        business_wallet = accounts_list[i]\n",
    "        _ = iot.functions.grantAccess(business_wallet).transact({'from':Contract_Owner}).hex()\n",
    "        gas_grant_access = gas_consumption(transaction = _, solo = False)\n",
    "        gas_re_registration.append(gas_grant_access)\n",
    "    except:\n",
    "        pass"
   ]
  },
  {
   "cell_type": "code",
   "execution_count": 44,
   "id": "e5fee797",
   "metadata": {},
   "outputs": [],
   "source": [
    "assert(len(gas_re_registration) == 417)"
   ]
  },
  {
   "cell_type": "code",
   "execution_count": 45,
   "id": "c4a7455e",
   "metadata": {},
   "outputs": [
    {
     "name": "stdout",
     "output_type": "stream",
     "text": [
      "Average gas to register company 46748.28057553957\n"
     ]
    }
   ],
   "source": [
    "average_gas_re_registration = sum(gas_re_registration)/len(gas_re_registration)\n",
    "print('Average gas to register company', average_gas_re_registration)"
   ]
  },
  {
   "cell_type": "code",
   "execution_count": 46,
   "id": "61f374e3",
   "metadata": {},
   "outputs": [],
   "source": [
    "number_of_re_registrations = gas_block_limit/average_gas_re_registration"
   ]
  },
  {
   "cell_type": "code",
   "execution_count": 47,
   "id": "84c7ae69",
   "metadata": {},
   "outputs": [
    {
     "name": "stdout",
     "output_type": "stream",
     "text": [
      "\n",
      "1 Ethereum block can fit: 641.7348323971751 registrations.\n",
      "i.e. 641 registrations\n"
     ]
    }
   ],
   "source": [
    "print(f\"\"\"\n",
    "1 Ethereum block can fit: {number_of_re_registrations} registrations.\n",
    "i.e. {math.floor(number_of_re_registrations)} registrations\"\"\",)\n"
   ]
  },
  {
   "cell_type": "code",
   "execution_count": 48,
   "id": "e00fb714",
   "metadata": {},
   "outputs": [
    {
     "data": {
      "text/plain": [
       "[46749,\n",
       " 46749,\n",
       " 46749,\n",
       " 46749,\n",
       " 46749,\n",
       " 46749,\n",
       " 46749,\n",
       " 46749,\n",
       " 46749,\n",
       " 46749,\n",
       " 46749,\n",
       " 46749,\n",
       " 46749,\n",
       " 46749,\n",
       " 46737,\n",
       " 46749,\n",
       " 46749,\n",
       " 46749,\n",
       " 46749,\n",
       " 46749,\n",
       " 46749,\n",
       " 46749,\n",
       " 46749,\n",
       " 46749,\n",
       " 46749,\n",
       " 46749,\n",
       " 46749,\n",
       " 46749,\n",
       " 46749,\n",
       " 46749,\n",
       " 46749,\n",
       " 46749,\n",
       " 46749,\n",
       " 46749,\n",
       " 46749,\n",
       " 46749,\n",
       " 46749,\n",
       " 46737,\n",
       " 46749,\n",
       " 46749,\n",
       " 46749,\n",
       " 46749,\n",
       " 46749,\n",
       " 46749,\n",
       " 46749,\n",
       " 46749,\n",
       " 46749,\n",
       " 46749,\n",
       " 46749,\n",
       " 46749,\n",
       " 46749,\n",
       " 46749,\n",
       " 46749,\n",
       " 46737,\n",
       " 46749,\n",
       " 46749,\n",
       " 46749,\n",
       " 46749,\n",
       " 46749,\n",
       " 46749,\n",
       " 46749,\n",
       " 46749,\n",
       " 46749,\n",
       " 46749,\n",
       " 46749,\n",
       " 46749,\n",
       " 46749,\n",
       " 46749,\n",
       " 46749,\n",
       " 46749,\n",
       " 46737,\n",
       " 46749,\n",
       " 46749,\n",
       " 46749,\n",
       " 46749,\n",
       " 46749,\n",
       " 46749,\n",
       " 46749,\n",
       " 46749,\n",
       " 46749,\n",
       " 46749,\n",
       " 46749,\n",
       " 46749,\n",
       " 46749,\n",
       " 46749,\n",
       " 46749,\n",
       " 46749,\n",
       " 46749,\n",
       " 46749,\n",
       " 46749,\n",
       " 46749,\n",
       " 46737,\n",
       " 46749,\n",
       " 46749,\n",
       " 46749,\n",
       " 46749,\n",
       " 46749,\n",
       " 46737,\n",
       " 46749,\n",
       " 46749,\n",
       " 46749,\n",
       " 46749,\n",
       " 46749,\n",
       " 46749,\n",
       " 46749,\n",
       " 46737,\n",
       " 46749,\n",
       " 46749,\n",
       " 46749,\n",
       " 46749,\n",
       " 46749,\n",
       " 46749,\n",
       " 46749,\n",
       " 46749,\n",
       " 46749,\n",
       " 46749,\n",
       " 46749,\n",
       " 46749,\n",
       " 46749,\n",
       " 46737,\n",
       " 46749,\n",
       " 46749,\n",
       " 46737,\n",
       " 46749,\n",
       " 46749,\n",
       " 46749,\n",
       " 46749,\n",
       " 46749,\n",
       " 46749,\n",
       " 46749,\n",
       " 46749,\n",
       " 46749,\n",
       " 46749,\n",
       " 46749,\n",
       " 46749,\n",
       " 46749,\n",
       " 46737,\n",
       " 46749,\n",
       " 46749,\n",
       " 46749,\n",
       " 46749,\n",
       " 46749,\n",
       " 46749,\n",
       " 46749,\n",
       " 46749,\n",
       " 46749,\n",
       " 46749,\n",
       " 46749,\n",
       " 46749,\n",
       " 46749,\n",
       " 46737,\n",
       " 46749,\n",
       " 46749,\n",
       " 46749,\n",
       " 46749,\n",
       " 46749,\n",
       " 46749,\n",
       " 46749,\n",
       " 46749,\n",
       " 46749,\n",
       " 46749,\n",
       " 46749,\n",
       " 46749,\n",
       " 46749,\n",
       " 46749,\n",
       " 46749,\n",
       " 46749,\n",
       " 46749,\n",
       " 46749,\n",
       " 46737,\n",
       " 46749,\n",
       " 46749,\n",
       " 46749,\n",
       " 46749,\n",
       " 46749,\n",
       " 46749,\n",
       " 46749,\n",
       " 46749,\n",
       " 46749,\n",
       " 46749,\n",
       " 46749,\n",
       " 46749,\n",
       " 46749,\n",
       " 46749,\n",
       " 46749,\n",
       " 46749,\n",
       " 46749,\n",
       " 46749,\n",
       " 46749,\n",
       " 46749,\n",
       " 46749,\n",
       " 46749,\n",
       " 46749,\n",
       " 46749,\n",
       " 46749,\n",
       " 46749,\n",
       " 46749,\n",
       " 46749,\n",
       " 46749,\n",
       " 46749,\n",
       " 46749,\n",
       " 46749,\n",
       " 46749,\n",
       " 46749,\n",
       " 46749,\n",
       " 46749,\n",
       " 46749,\n",
       " 46749,\n",
       " 46749,\n",
       " 46749,\n",
       " 46749,\n",
       " 46749,\n",
       " 46749,\n",
       " 46749,\n",
       " 46749,\n",
       " 46749,\n",
       " 46749,\n",
       " 46749,\n",
       " 46749,\n",
       " 46749,\n",
       " 46737,\n",
       " 46749,\n",
       " 46749,\n",
       " 46749,\n",
       " 46737,\n",
       " 46749,\n",
       " 46749,\n",
       " 46749,\n",
       " 46749,\n",
       " 46749,\n",
       " 46749,\n",
       " 46749,\n",
       " 46749,\n",
       " 46749,\n",
       " 46749,\n",
       " 46749,\n",
       " 46749,\n",
       " 46749,\n",
       " 46749,\n",
       " 46749,\n",
       " 46749,\n",
       " 46749,\n",
       " 46749,\n",
       " 46749,\n",
       " 46749,\n",
       " 46749,\n",
       " 46737,\n",
       " 46749,\n",
       " 46749,\n",
       " 46737,\n",
       " 46749,\n",
       " 46749,\n",
       " 46749,\n",
       " 46749,\n",
       " 46749,\n",
       " 46749,\n",
       " 46749,\n",
       " 46749,\n",
       " 46749,\n",
       " 46749,\n",
       " 46749,\n",
       " 46749,\n",
       " 46737,\n",
       " 46749,\n",
       " 46749,\n",
       " 46749,\n",
       " 46749,\n",
       " 46749,\n",
       " 46749,\n",
       " 46749,\n",
       " 46749,\n",
       " 46725,\n",
       " 46749,\n",
       " 46749,\n",
       " 46749,\n",
       " 46749,\n",
       " 46749,\n",
       " 46749,\n",
       " 46749,\n",
       " 46749,\n",
       " 46737,\n",
       " 46749,\n",
       " 46749,\n",
       " 46749,\n",
       " 46749,\n",
       " 46749,\n",
       " 46749,\n",
       " 46749,\n",
       " 46749,\n",
       " 46749,\n",
       " 46749,\n",
       " 46749,\n",
       " 46749,\n",
       " 46749,\n",
       " 46749,\n",
       " 46749,\n",
       " 46737,\n",
       " 46749,\n",
       " 46749,\n",
       " 46749,\n",
       " 46749,\n",
       " 46749,\n",
       " 46749,\n",
       " 46749,\n",
       " 46749,\n",
       " 46749,\n",
       " 46749,\n",
       " 46749,\n",
       " 46749,\n",
       " 46749,\n",
       " 46749,\n",
       " 46749,\n",
       " 46737,\n",
       " 46737,\n",
       " 46749,\n",
       " 46749,\n",
       " 46749,\n",
       " 46749,\n",
       " 46749,\n",
       " 46749,\n",
       " 46749,\n",
       " 46749,\n",
       " 46749,\n",
       " 46749,\n",
       " 46749,\n",
       " 46749,\n",
       " 46749,\n",
       " 46749,\n",
       " 46749,\n",
       " 46749,\n",
       " 46749,\n",
       " 46749,\n",
       " 46737,\n",
       " 46749,\n",
       " 46749,\n",
       " 46749,\n",
       " 46749,\n",
       " 46749,\n",
       " 46749,\n",
       " 46749,\n",
       " 46749,\n",
       " 46749,\n",
       " 46749,\n",
       " 46749,\n",
       " 46749,\n",
       " 46749,\n",
       " 46749,\n",
       " 46749,\n",
       " 46749,\n",
       " 46749,\n",
       " 46749,\n",
       " 46749,\n",
       " 46749,\n",
       " 46749,\n",
       " 46749,\n",
       " 46749,\n",
       " 46749,\n",
       " 46749,\n",
       " 46749,\n",
       " 46749,\n",
       " 46749,\n",
       " 46749,\n",
       " 46749,\n",
       " 46737,\n",
       " 46749,\n",
       " 46749,\n",
       " 46749,\n",
       " 46749,\n",
       " 46749,\n",
       " 46749,\n",
       " 46749,\n",
       " 46749,\n",
       " 46749,\n",
       " 46749,\n",
       " 46749,\n",
       " 46749,\n",
       " 46749,\n",
       " 46749,\n",
       " 46749,\n",
       " 46749,\n",
       " 46749,\n",
       " 46749,\n",
       " 46749,\n",
       " 46749,\n",
       " 46749,\n",
       " 46749,\n",
       " 46749,\n",
       " 46749,\n",
       " 46749,\n",
       " 46749,\n",
       " 46749,\n",
       " 46749,\n",
       " 46749,\n",
       " 46749,\n",
       " 46749,\n",
       " 46749,\n",
       " 46749,\n",
       " 46749,\n",
       " 46749,\n",
       " 46749,\n",
       " 46749,\n",
       " 46749,\n",
       " 46749,\n",
       " 46749,\n",
       " 46749,\n",
       " 46749,\n",
       " 46749,\n",
       " 46749,\n",
       " 46749,\n",
       " 46749,\n",
       " 46749,\n",
       " 46749,\n",
       " 46749,\n",
       " 46749,\n",
       " 46749,\n",
       " 46749,\n",
       " 46749]"
      ]
     },
     "execution_count": 48,
     "metadata": {},
     "output_type": "execute_result"
    }
   ],
   "source": [
    "gas_re_registration"
   ]
  },
  {
   "cell_type": "code",
   "execution_count": null,
   "id": "0d695577",
   "metadata": {},
   "outputs": [],
   "source": []
  }
 ],
 "metadata": {
  "kernelspec": {
   "display_name": "Python 3 (ipykernel)",
   "language": "python",
   "name": "python3"
  },
  "language_info": {
   "codemirror_mode": {
    "name": "ipython",
    "version": 3
   },
   "file_extension": ".py",
   "mimetype": "text/x-python",
   "name": "python",
   "nbconvert_exporter": "python",
   "pygments_lexer": "ipython3",
   "version": "3.10.9"
  }
 },
 "nbformat": 4,
 "nbformat_minor": 5
}
